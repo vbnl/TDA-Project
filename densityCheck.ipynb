{
 "cells": [
  {
   "cell_type": "code",
   "execution_count": null,
   "metadata": {},
   "outputs": [],
   "source": [
    "#!/usr/bin/env python3\n",
    "# -*- coding: utf-8 -*-\n",
    "\"\"\"\n",
    "Created on Thu Oct 29 16:26:17 2020\n",
    "\n",
    "@author: nathanl\n",
    "\"\"\"\n",
    "import math\n",
    "\n",
    "\n",
    "def densityChecked(M, r0 = 5, k=5) -> None:\n",
    "    xlist = M[:,0]\n",
    "    ylist = M[:,1]\n",
    "    \n",
    "    #EDIT AS NECESSARY\n",
    "    #**********************************\n",
    "    #radius parameter\n",
    "    #r0 = 5\n",
    "    #minimum number of points allowable\n",
    "    #k = 5\n",
    "    #**********************************\n",
    "\n",
    "\n",
    "    #list of yes/no (1/0) for each point\n",
    "    checklist = [0]*len(xlist)\n",
    "    \n",
    "    #checklist is now list of 0s with indices corresponding to xlist/ylist\n",
    "    a=0;\n",
    "    while a < len(xlist):\n",
    "        #counter for points within r0\n",
    "        count = 0\n",
    "        b=0;\n",
    "        while b < len(xlist):\n",
    "            if a != b:\n",
    "                distance = math.sqrt( (ylist[b] - ylist[a])*(ylist[b] - ylist[a])\n",
    "                                     + (xlist[b] - xlist[a])*(xlist[b] - xlist[a]) )\n",
    "                if distance <= r0:\n",
    "                    count += 1\n",
    "            b+=1\n",
    "                \n",
    "        if count >= k:\n",
    "            checklist[a] = 1\n",
    "        a+=1\n",
    "        \n",
    "    z=0;\n",
    "    while z < len(xlist):\n",
    "        if checklist[z] == 0:\n",
    "            M.remove(M[z])\n",
    "    \n",
    "    "
   ]
  }
 ],
 "metadata": {
  "kernelspec": {
   "display_name": "Python 3",
   "language": "python",
   "name": "python3"
  },
  "language_info": {
   "codemirror_mode": {
    "name": "ipython",
    "version": 3
   },
   "file_extension": ".py",
   "mimetype": "text/x-python",
   "name": "python",
   "nbconvert_exporter": "python",
   "pygments_lexer": "ipython3",
   "version": "3.8.3"
  }
 },
 "nbformat": 4,
 "nbformat_minor": 4
}
